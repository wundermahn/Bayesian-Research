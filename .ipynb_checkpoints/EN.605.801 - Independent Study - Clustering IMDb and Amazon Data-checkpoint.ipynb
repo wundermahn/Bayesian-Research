{
 "cells": [
  {
   "cell_type": "code",
   "execution_count": 4,
   "metadata": {},
   "outputs": [
    {
     "data": {
      "text/html": [
       "        <script type=\"text/javascript\">\n",
       "        window.PlotlyConfig = {MathJaxConfig: 'local'};\n",
       "        if (window.MathJax) {MathJax.Hub.Config({SVG: {font: \"STIX-Web\"}});}\n",
       "        if (typeof require !== 'undefined') {\n",
       "        require.undef(\"plotly\");\n",
       "        requirejs.config({\n",
       "            paths: {\n",
       "                'plotly': ['https://cdn.plot.ly/plotly-latest.min']\n",
       "            }\n",
       "        });\n",
       "        require(['plotly'], function(Plotly) {\n",
       "            window._Plotly = Plotly;\n",
       "        });\n",
       "        }\n",
       "        </script>\n",
       "        "
      ]
     },
     "metadata": {},
     "output_type": "display_data"
    }
   ],
   "source": [
    "import pandas as pd, numpy as np, plotly, plotly.express as px, warnings, gc, plotly.offline as plotly_offline\n",
    "from sklearn.cluster import KMeans\n",
    "from sklearn.metrics import silhouette_samples, silhouette_score\n",
    "from sklearn.decomposition import PCA\n",
    "\n",
    "# Other settings\n",
    "gc.enable()\n",
    "warnings.filterwarnings(\"ignore\")\n",
    "plotly_offline.init_notebook_mode(connected = True)"
   ]
  },
  {
   "cell_type": "code",
   "execution_count": 10,
   "metadata": {},
   "outputs": [],
   "source": [
    "# Create a function to automate this\n",
    "def optimize_k_means(data, verbose):\n",
    "\n",
    "    # Set variables for the best k, and the best silhouette coefficient\n",
    "    best_k = 0\n",
    "    best_sil_coe = 0\n",
    "    \n",
    "    # Lists of K values and their scores\n",
    "    k = []\n",
    "    score = []\n",
    "    \n",
    "    # Loop through 2-8 to check # of clusters\n",
    "    for i in range(2,8):\n",
    "        # Create a K Means algorithm\n",
    "        clusterer = KMeans(n_clusters=i, random_state=np.random.randint(1,100))\n",
    "        # Fit the algorithm to the data\n",
    "        cluster_labels = clusterer.fit_predict(data)\n",
    "        # Find the average silhouette coefficient\n",
    "        silhouette_avg = silhouette_score(data, cluster_labels)\n",
    "        \n",
    "        # If verbose is enabled, print out the average\n",
    "        if verbose:\n",
    "            print(\"For n_clusters =\", i,\n",
    "                \"The average silhouette_score is :\", silhouette_avg) \n",
    "\n",
    "        # If the current is better than the best\n",
    "        if silhouette_avg > best_sil_coe:\n",
    "            best_k = i\n",
    "            best_sil_coe = silhouette_avg\n",
    "        \n",
    "        # Append the k and its score\n",
    "        k.append(i)\n",
    "        score.append(silhouette_avg)\n",
    "    \n",
    "    # Create a dataframe of K values and scores\n",
    "    df = pd.DataFrame(list(zip(k, score)), columns=['K Value', 'Sil. Coe'])\n",
    "    \n",
    "    # Return the best k and silhouette coefficient, and the overall dataframe\n",
    "    return best_k, best_sil_coe, df\n",
    "\n",
    "# Function to remove outliers from plotting data\n",
    "def remove_outliers(df, col, min_quant, max_quant):\n",
    "    # Lower quantile\n",
    "    Qx = df[col].quantile(min_quant)\n",
    "    # Upper quantile\n",
    "    Qy = df[col].quantile(max_quant)\n",
    "    # Interquantile range\n",
    "    IQR = Qy - Qx\n",
    "\n",
    "    # Return everything in between the IQR\n",
    "    return df.query('(@Qx - 1.5 * @IQR) <= '+col+' <= (@Qy + 1.5 * @IQR)')\n",
    "\n",
    "def plot_kmeans(components, dimensions, k, data, classes):\n",
    "    # Assure we are plotting in 2D or 3D only\n",
    "    assert dimensions in [2,3]\n",
    "    \n",
    "    # Create a PCA transformer with the # of specified components\n",
    "    pca = PCA(n_components=components)\n",
    "    \n",
    "    # Fit that against the raw data\n",
    "    X = pca.fit_transform(data)\n",
    "    \n",
    "    if(dimensions == 3):\n",
    "        # Create a dataframe containing the PCAs\n",
    "        dataset = pd.DataFrame({'PCA1': X[:, 0], 'PCA2': X[:, 1], 'PCA3': X[:, 2]})\n",
    "        \n",
    "        # Create KMeans Algo\n",
    "        kmeans = KMeans(n_clusters=k, init='k-means++', max_iter=500, random_state=np.random.randint(1,100))\n",
    "        # Determine which cluster each point belongs to\n",
    "        dataset['Cluster'] = kmeans.fit_predict(dataset)\n",
    "        # Bring distribution of clusters\n",
    "        print(dataset['Cluster'].value_counts())        \n",
    "        \n",
    "        # Append the classes\n",
    "        dataset['class'] = classes\n",
    "        # Create the figure\n",
    "        fig = px.scatter_3d(dataset, x='PCA1', y='PCA2', z='PCA3', color='class', \n",
    "                        symbol='Cluster', title=\"3D K Means Sentiment Class Plot\")\n",
    "        # Show the figure\n",
    "        fig.show() \n",
    "    \n",
    "    # Otherwise, 2D\n",
    "    else:\n",
    "        # Create a dataframe containing the PCAs\n",
    "        dataset = pd.DataFrame({'PCA1': X[:, 0], 'PCA2': X[:, 1]})\n",
    "        \n",
    "        # Create KMeans Algo\n",
    "        kmeans = KMeans(n_clusters=k, init='k-means++', max_iter=500, random_state=np.random.randint(1,100))\n",
    "        # Determine which cluster each point belongs to\n",
    "        dataset['Cluster'] = kmeans.fit_predict(dataset)\n",
    "        # Bring distribution of clusters\n",
    "        print(dataset['Cluster'].value_counts())   \n",
    "        \n",
    "        # Append the classes\n",
    "        dataset['class'] = classes\n",
    "        # Create the figure\n",
    "        fig = px.scatter(dataset, x='PCA1', y='PCA2', color='class', \n",
    "                        symbol='Cluster', title=\"2D K Means Sentiment Class Plot\")\n",
    "        # Show the figure\n",
    "        fig.show()     \n",
    "        \n",
    "def plot_data(components, dimensions, data, classes):\n",
    "    # Assure we are plotting in 2D or 3D only\n",
    "    assert dimensions in [2,3]\n",
    "    \n",
    "    # Create a PCA transformer with the # of specified components\n",
    "    pca = PCA(n_components=components)\n",
    "    \n",
    "    # Fit that against the raw data\n",
    "    X = pca.fit_transform(data)\n",
    "    \n",
    "    if(dimensions == 3):\n",
    "        # Create a dataframe containing the PCAs\n",
    "        dataset = pd.DataFrame({'PCA1': X[:, 0], 'PCA2': X[:, 1], 'PCA3': X[:, 2]})\n",
    "        # Append the classes\n",
    "        dataset['class'] = classes\n",
    "        # Create the figure\n",
    "        fig = px.scatter_3d(dataset, x='PCA1', y='PCA2', z='PCA3', color='class', \n",
    "                        title=\"3D Sentiment Class Plot\")\n",
    "        # Show the figure\n",
    "        fig.show() \n",
    "    \n",
    "    # Otherwise, 2D\n",
    "    else:\n",
    "        # Create a dataframe containing the PCAs\n",
    "        dataset = pd.DataFrame({'PCA1': X[:, 0], 'PCA2': X[:, 1]})\n",
    "        # Append the classes\n",
    "        dataset['class'] = classes\n",
    "        # Create the figure\n",
    "        fig = px.scatter(dataset, x='PCA1', y='PCA2', color='class', \n",
    "                        title=\"2D Sentiment Class Plot\")\n",
    "        # Show the figure\n",
    "        fig.show()         "
   ]
  },
  {
   "cell_type": "markdown",
   "metadata": {},
   "source": [
    "## Non Scaled (i.e. native values, not positive*3)\n",
    "### Raw Plots"
   ]
  },
  {
   "cell_type": "code",
   "execution_count": 9,
   "metadata": {},
   "outputs": [
    {
     "data": {
      "text/plain": [
       "0"
      ]
     },
     "execution_count": 9,
     "metadata": {},
     "output_type": "execute_result"
    }
   ],
   "source": [
    "# Import the data built by Iteration 1\n",
    "boolean = pd.read_csv('Trimmed_Boolean.csv')\n",
    "tfidf = pd.read_csv('Trimmed_TFIDF.csv')\n",
    "freq = pd.read_csv('Trimmed_Count.csv')\n",
    "\n",
    "# Create lists of the dataframes, and their names\n",
    "dfs = [boolean, tfidf, freq]\n",
    "names = ['Boolean', 'TFIDF', 'Frequency']\n",
    "\n",
    "# Grab the classes\n",
    "classes = boolean['class']\n",
    "\n",
    "# Drop weird column pandas creates when writing to csv\n",
    "for df in dfs:\n",
    "    df.drop(['Unnamed: 0', 'class'], axis=1, inplace=True)\n",
    "    \n",
    "# Free up some memory\n",
    "gc.collect()"
   ]
  },
  {
   "cell_type": "code",
   "execution_count": null,
   "metadata": {},
   "outputs": [
    {
     "name": "stdout",
     "output_type": "stream",
     "text": [
      "For n_clusters = 2 The average silhouette_score is : 0.1432684590936883\n",
      "For n_clusters = 3 The average silhouette_score is : 0.002916816827740556\n",
      "For n_clusters = 4 The average silhouette_score is : -0.004558380974361654\n",
      "For n_clusters = 5 The average silhouette_score is : -0.02038760167408684\n",
      "For n_clusters = 6 The average silhouette_score is : -0.029652190928334567\n"
     ]
    }
   ],
   "source": [
    "# For each dataset\n",
    "for i in range(len(dfs)):\n",
    "    # Find the best k values\n",
    "    best_k, best_sil_coe, df = optimize_k_means(dfs[i], True)\n",
    "    # Pretty print results\n",
    "    print(\"For {} data: Best K Value: {} | Best Sil Coe: {}\".format(names[i], best_k, best_sil_coe))\n",
    "    print(\"{}\".format(names[i]))\n",
    "    print(\"*---------------------------------------------------------------------------*\")\n",
    "    print(df)"
   ]
  },
  {
   "cell_type": "code",
   "execution_count": null,
   "metadata": {},
   "outputs": [],
   "source": []
  }
 ],
 "metadata": {
  "kernelspec": {
   "display_name": "Python 3",
   "language": "python",
   "name": "python3"
  },
  "language_info": {
   "codemirror_mode": {
    "name": "ipython",
    "version": 3
   },
   "file_extension": ".py",
   "mimetype": "text/x-python",
   "name": "python",
   "nbconvert_exporter": "python",
   "pygments_lexer": "ipython3",
   "version": "3.8.3"
  }
 },
 "nbformat": 4,
 "nbformat_minor": 4
}
