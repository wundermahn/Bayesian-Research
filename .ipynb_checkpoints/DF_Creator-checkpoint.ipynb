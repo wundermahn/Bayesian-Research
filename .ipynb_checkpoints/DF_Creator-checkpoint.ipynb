{
 "cells": [
  {
   "cell_type": "markdown",
   "metadata": {},
   "source": [
    "# Dataframe Creator\n",
    "This notebook simply reads in raw text data and creates a pandas dataframe, saved as a .csv, to be used in other applications"
   ]
  },
  {
   "cell_type": "code",
   "execution_count": 4,
   "metadata": {},
   "outputs": [],
   "source": [
    "import pandas as pd, os, gc as gc\n",
    "from tqdm import tqdm_notebook as tqdm"
   ]
  },
  {
   "cell_type": "code",
   "execution_count": 5,
   "metadata": {},
   "outputs": [],
   "source": [
    "# Function to build a dataframe from a given basepath\n",
    "def build_df(path, basepath, df, classification):\n",
    "    # Set the directory to scan equal to the path\n",
    "    directory = os.fsencode(path)\n",
    "    \n",
    "    # Set progress bar\n",
    "    tqdm().pandas()\n",
    "\n",
    "    # Loop through all files in the directory\n",
    "    for file in tqdm(os.listdir(directory)):\n",
    "        # Assume a base utf-8 encoding\n",
    "        temp_id = str(file.decode('utf-8'))\n",
    "        # Open each file\n",
    "        with open(basepath + temp_id, 'r', encoding=\"utf8\") as curr:\n",
    "            # Copy the text from the review\n",
    "            temp_text = curr.read().replace('\\n', '')\n",
    "        # Build a new row for the dataframe\n",
    "        data = [temp_id, temp_text, classification]\n",
    "        # Add the row to the dataframe\n",
    "        df.loc[len(df)] = data\n",
    "        \n",
    "        # Collect unused memory\n",
    "        gc.collect()\n",
    "\n",
    "    # Alert user to finish\n",
    "    print(\"Done\")\n",
    "    \n",
    "    # Return the completed dataframe\n",
    "    return df"
   ]
  },
  {
   "cell_type": "code",
   "execution_count": null,
   "metadata": {},
   "outputs": [
    {
     "name": "stdout",
     "output_type": "stream",
     "text": [
      "Done\n"
     ]
    }
   ],
   "source": [
    "# Build the initial dataset to toy with\n",
    "neg_path = 'D:\\\\Git\\\\Bayesian-Research\\\\movie_data\\\\neg'\n",
    "pos_path = 'D:\\\\Git\\\\Bayesian-Research\\\\movie_data\\\\pos'\n",
    "neg_basepath = \"D:\\\\Git\\\\Bayesian-Research\\\\movie_data\\\\neg\\\\\"\n",
    "pos_basepath = \"D:\\\\Git\\\\Bayesian-Research\\\\movie_data\\\\pos\\\\\"\n",
    "\n",
    "df = pd.DataFrame(columns = ['ID', 'Text', 'Class'])\n",
    "\n",
    "df = build_df(neg_path, neg_basepath, df, -1)\n",
    "df = build_df(pos_path, pos_basepath, df, 1)\n",
    "\n",
    "gc.collect()\n",
    "df.to_csv('D:\\\\Git\\\\Bayesian-Research\\\\complete_movie_data.csv')\n",
    "\n",
    "gc.collect()"
   ]
  },
  {
   "cell_type": "code",
   "execution_count": null,
   "metadata": {},
   "outputs": [],
   "source": []
  }
 ],
 "metadata": {
  "kernelspec": {
   "display_name": "Python 3",
   "language": "python",
   "name": "python3"
  },
  "language_info": {
   "codemirror_mode": {
    "name": "ipython",
    "version": 3
   },
   "file_extension": ".py",
   "mimetype": "text/x-python",
   "name": "python",
   "nbconvert_exporter": "python",
   "pygments_lexer": "ipython3",
   "version": "3.8.3"
  }
 },
 "nbformat": 4,
 "nbformat_minor": 4
}
