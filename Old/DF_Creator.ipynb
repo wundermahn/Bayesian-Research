{
 "cells": [
  {
   "cell_type": "markdown",
   "metadata": {},
   "source": [
    "# Dataframe Creator\n",
    "This notebook simply reads in raw text data and creates a pandas dataframe, saved as a .csv, to be used in other applications"
   ]
  },
  {
   "cell_type": "code",
   "execution_count": 1,
   "metadata": {},
   "outputs": [],
   "source": [
    "import pandas as pd, os, gc as gc\n",
    "from tqdm import tqdm.notebook as tqdm"
   ]
  },
  {
   "cell_type": "code",
   "execution_count": 2,
   "metadata": {},
   "outputs": [],
   "source": [
    "# Function to build a dataframe from a given basepath\n",
    "def build_df(path, basepath, df, classification):\n",
    "    # Set the directory to scan equal to the path\n",
    "    directory = os.fsencode(path)\n",
    "\n",
    "    # Loop through all files in the directory\n",
    "    for file in tqdm(os.listdir(directory)):\n",
    "        # Assume a base utf-8 encoding\n",
    "        temp_id = str(file.decode('utf-8'))\n",
    "        # Open each file\n",
    "        with open(basepath + temp_id, 'r', encoding=\"utf8\") as curr:\n",
    "            # Copy the text from the review\n",
    "            temp_text = curr.read().replace('\\n', '')\n",
    "        # Build a new row for the dataframe\n",
    "        data = [temp_id, temp_text, classification]\n",
    "        # Add the row to the dataframe\n",
    "        df.loc[len(df)] = data\n",
    "        \n",
    "        # Collect unused memory\n",
    "        gc.collect()\n",
    "\n",
    "    # Alert user to finish\n",
    "    print(\"Done\")\n",
    "    \n",
    "    # Return the completed dataframe\n",
    "    return df"
   ]
  },
  {
   "cell_type": "code",
   "execution_count": 5,
   "metadata": {},
   "outputs": [
    {
     "name": "stderr",
     "output_type": "stream",
     "text": [
      "<ipython-input-2-d01238e89e39>:7: TqdmDeprecationWarning: This function will be removed in tqdm==5.0.0\n",
      "Please use `tqdm.notebook.tqdm` instead of `tqdm.tqdm_notebook`\n",
      "  for file in tqdm(os.listdir(directory)):\n"
     ]
    },
    {
     "data": {
      "application/vnd.jupyter.widget-view+json": {
       "model_id": "6ad631dcbfca4181a52f2764f5339cfb",
       "version_major": 2,
       "version_minor": 0
      },
      "text/plain": [
       "HBox(children=(FloatProgress(value=0.0, max=25000.0), HTML(value='')))"
      ]
     },
     "metadata": {},
     "output_type": "display_data"
    },
    {
     "name": "stdout",
     "output_type": "stream",
     "text": [
      "\n",
      "Done\n"
     ]
    },
    {
     "data": {
      "application/vnd.jupyter.widget-view+json": {
       "model_id": "0b500d95888844faa939682c82e8ddee",
       "version_major": 2,
       "version_minor": 0
      },
      "text/plain": [
       "HBox(children=(FloatProgress(value=0.0, max=25000.0), HTML(value='')))"
      ]
     },
     "metadata": {},
     "output_type": "display_data"
    },
    {
     "name": "stdout",
     "output_type": "stream",
     "text": [
      "\n",
      "Done\n"
     ]
    },
    {
     "data": {
      "text/plain": [
       "4"
      ]
     },
     "execution_count": 5,
     "metadata": {},
     "output_type": "execute_result"
    }
   ],
   "source": [
    "# Build the initial dataset to toy with\n",
    "neg_path = 'D:\\\\Git\\\\Bayesian-Research\\\\movie_data\\\\neg'\n",
    "pos_path = 'D:\\\\Git\\\\Bayesian-Research\\\\movie_data\\\\pos'\n",
    "neg_basepath = \"D:\\\\Git\\\\Bayesian-Research\\\\movie_data\\\\neg\\\\\"\n",
    "pos_basepath = \"D:\\\\Git\\\\Bayesian-Research\\\\movie_data\\\\pos\\\\\"\n",
    "\n",
    "df_pos = pd.DataFrame(columns = ['ID', 'Text', 'Class'])\n",
    "df_neg = pd.DataFrame(columns = ['ID', 'Text', 'Class'])\n",
    "\n",
    "df_neg = build_df(neg_path, neg_basepath, df_neg, -1)\n",
    "df_pos = build_df(pos_path, pos_basepath, df_pos, 1)\n",
    "\n",
    "gc.collect()"
   ]
  },
  {
   "cell_type": "code",
   "execution_count": 6,
   "metadata": {},
   "outputs": [],
   "source": [
    "big_df = pd.concat([df_neg, df_pos])\n",
    "\n",
    "#df_neg.to_csv('D:\\\\Git\\\\Bayesian-Research\\\\complete_movie_data.csv')"
   ]
  },
  {
   "cell_type": "code",
   "execution_count": 7,
   "metadata": {},
   "outputs": [],
   "source": [
    "big_df.to_csv('D:\\\\Git\\\\Bayesian-Research\\\\imdb_data.csv')"
   ]
  },
  {
   "cell_type": "code",
   "execution_count": null,
   "metadata": {},
   "outputs": [],
   "source": []
  }
 ],
 "metadata": {
  "kernelspec": {
   "display_name": "Python 3",
   "language": "python",
   "name": "python3"
  },
  "language_info": {
   "codemirror_mode": {
    "name": "ipython",
    "version": 3
   },
   "file_extension": ".py",
   "mimetype": "text/x-python",
   "name": "python",
   "nbconvert_exporter": "python",
   "pygments_lexer": "ipython3",
   "version": "3.8.3"
  }
 },
 "nbformat": 4,
 "nbformat_minor": 4
}
